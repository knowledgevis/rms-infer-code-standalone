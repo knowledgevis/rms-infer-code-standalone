{
 "cells": [
  {
   "cell_type": "markdown",
   "metadata": {},
   "source": [
    "This notebook is an early exploration creating DICOM WSI files.  Newer code is available integrated with the RMS segmentation model in rms-set-with-dicom-out.py"
   ]
  },
  {
   "cell_type": "code",
   "execution_count": 7,
   "metadata": {},
   "outputs": [
    {
     "name": "stdout",
     "output_type": "stream",
     "text": [
      "read array of dimensions: (9264, 9808, 5)\n"
     ]
    }
   ],
   "source": [
    "import numpy as np\n",
    "from pydicom import dcmread\n",
    "import gc\n",
    "\n",
    "# read the probability map output by the segmentation\n",
    "img_array = np.load('/media/clisle/Imaging/IDC/sample_data_from_pixelmed/PARNED-0BNNF4_B2_Q30/DCM_0_prob_map_seg_stack.npy')\n",
    "print('read array of dimensions:', img_array.shape)\n",
    "# Read SM Image data set from PS3.10 files on disk.  This will provide the \n",
    "# reference image size and other dicom header information \n",
    "image_file =  '/media/clisle/Imaging/IDC/sample_data_from_pixelmed/PARNED-0BNNF4_B2_Q30/DCM_0'\n",
    "image_dataset = dcmread(str(image_file))"
   ]
  },
  {
   "cell_type": "code",
   "execution_count": 85,
   "metadata": {},
   "outputs": [],
   "source": [
    "\n",
    "def _gray_to_labelmap(input_probs):\n",
    "    index_map = (np.argmax(input_probs, axis=-1)*50).astype('uint8')\n",
    "    height = input_probs.shape[0]\n",
    "    width = input_probs.shape[1]\n",
    "    heatmap = np.zeros((height, width, 1), np.float32)\n",
    "    # Background\n",
    "    heatmap[index_map == 0, 0] = input_probs[:, :, 0][index_map == 0]\n",
    "    # Necrosis\n",
    "    heatmap[index_map==50, 0] = input_probs[:, :, 1][index_map==50]\n",
    "    # Stroma\n",
    "    heatmap[index_map==100, 0] = input_probs[:, :, 2][index_map==100]\n",
    "    # ERMS\n",
    "    heatmap[index_map==150, 0] = input_probs[:, :, 3][index_map==150]\n",
    "    # ARMS\n",
    "    heatmap[index_map==200, 0] = input_probs[:, :, 4][index_map==200]\n",
    "    heatmap[np.average(heatmap, axis=-1)==0, :] = 1.\n",
    "    return heatmap\n",
    "\n",
    "\n",
    "# saved as I tried to change the output\n",
    "def _gray_to_color(input_probs):\n",
    "\n",
    "    index_map = (np.argmax(input_probs, axis=-1)*50).astype('uint8')\n",
    "    height = index_map.shape[0]\n",
    "    width = index_map.shape[1]\n",
    "\n",
    "    heatmap = np.zeros((height, width, 3), np.float32)\n",
    "\n",
    "    # Background\n",
    "    heatmap[index_map == 0, 0] = input_probs[:, :, 0][index_map == 0]\n",
    "    heatmap[index_map == 0, 1] = input_probs[:, :, 0][index_map == 0]\n",
    "    heatmap[index_map == 0, 2] = input_probs[:, :, 0][index_map == 0]\n",
    "\n",
    "    # Necrosis\n",
    "    heatmap[index_map==50, 0] = input_probs[:, :, 1][index_map==50]\n",
    "    heatmap[index_map==50, 1] = input_probs[:, :, 1][index_map==50]\n",
    "    heatmap[index_map==50, 2] = 0.\n",
    "\n",
    "    # Stroma\n",
    "    heatmap[index_map==100, 0] = 0.\n",
    "    heatmap[index_map==100, 1] = input_probs[:, :, 2][index_map==100]\n",
    "    heatmap[index_map==100, 2] = 0.\n",
    "\n",
    "    # ERMS\n",
    "    heatmap[index_map==150, 0] = input_probs[:, :, 3][index_map==150]\n",
    "    heatmap[index_map==150, 1] = 0.\n",
    "    heatmap[index_map==150, 2] = 0.\n",
    "\n",
    "    # ARMS\n",
    "    heatmap[index_map==200, 0] = 0.\n",
    "    heatmap[index_map==200, 1] = 0.\n",
    "    heatmap[index_map==200, 2] = input_probs[:, :, 4][index_map==200]\n",
    "\n",
    "    heatmap[np.average(heatmap, axis=-1)==0, :] = 1.\n",
    "\n",
    "    return heatmap\n"
   ]
  },
  {
   "cell_type": "code",
   "execution_count": 42,
   "metadata": {},
   "outputs": [
    {
     "name": "stdout",
     "output_type": "stream",
     "text": [
      "the first dimension is the background feature\n",
      "[[1. 1. 1. 1. 1.]\n",
      " [1. 1. 1. 1. 1.]\n",
      " [1. 1. 1. 1. 1.]\n",
      " [1. 1. 1. 1. 1.]\n",
      " [1. 1. 1. 1. 1.]\n",
      " [1. 1. 1. 1. 1.]\n",
      " [1. 1. 1. 1. 1.]\n",
      " [1. 1. 1. 1. 1.]\n",
      " [1. 1. 1. 1. 1.]\n",
      " [1. 1. 1. 1. 1.]]\n",
      "--------\n"
     ]
    },
    {
     "data": {
      "text/plain": [
       "array([[0., 0., 0., 0., 0.],\n",
       "       [0., 0., 0., 0., 0.],\n",
       "       [0., 0., 0., 0., 0.],\n",
       "       [0., 0., 0., 0., 0.],\n",
       "       [0., 0., 0., 0., 0.],\n",
       "       [0., 0., 0., 0., 0.],\n",
       "       [0., 0., 0., 0., 0.],\n",
       "       [0., 0., 0., 0., 0.],\n",
       "       [0., 0., 0., 0., 0.],\n",
       "       [0., 0., 0., 0., 0.]], dtype=float32)"
      ]
     },
     "execution_count": 42,
     "metadata": {},
     "output_type": "execute_result"
    }
   ],
   "source": [
    "print('the first dimension is the background feature')\n",
    "print(img_array[00:10,00:5,0])\n",
    "print('--------')\n",
    "img_array[00:10,00:5,1]"
   ]
  },
  {
   "cell_type": "code",
   "execution_count": 44,
   "metadata": {},
   "outputs": [
    {
     "name": "stdout",
     "output_type": "stream",
     "text": [
      "[[0.09885323 0.01833964 0.85569054 0.9999988  0.5437823 ]\n",
      " [0.06999329 0.01857144 0.07199194 0.0496218  0.07931215]\n",
      " [0.29979065 0.04545905 0.02517503 0.02872984 0.03119877]\n",
      " [0.99999994 0.06653909 0.03455681 0.0292804  0.02864437]\n",
      " [0.18684249 0.99924254 0.05343835 0.02715843 0.06112269]\n",
      " [0.02161304 0.03637022 0.02607653 0.0231246  0.03877334]\n",
      " [0.02662762 0.03028561 0.01278969 0.03566855 0.02838792]\n",
      " [0.09287167 0.9999998  0.37906298 0.10865007 0.03947021]\n",
      " [0.99174863 0.9998394  0.0346764  0.99364436 0.02019441]\n",
      " [0.06616805 0.01758871 0.03465229 0.20315011 0.01553984]]\n",
      "--------\n",
      "[[1.5822272e-03 1.5085234e-03 5.4091460e-04 3.9947037e-09 7.7487825e-04]\n",
      " [1.7646151e-03 1.3401026e-03 1.2013029e-03 1.2899204e-03 1.0527071e-03]\n",
      " [1.8518667e-03 1.6911210e-03 1.2253837e-03 1.4700033e-03 1.5215054e-03]\n",
      " [4.4405285e-10 2.9537315e-03 1.6524281e-03 1.7145807e-03 2.2892633e-03]\n",
      " [2.7323849e-03 1.7574280e-06 2.3762167e-03 2.0051009e-03 2.2525184e-03]\n",
      " [2.5277080e-03 1.5831784e-03 1.6642596e-03 1.9596796e-03 2.3667284e-03]\n",
      " [2.2730324e-03 1.9745885e-03 1.9174475e-03 1.8358559e-03 2.6581320e-03]\n",
      " [2.4591824e-03 7.2359957e-10 2.3849765e-03 2.7718046e-03 2.5806176e-03]\n",
      " [2.2321048e-05 7.9399348e-07 3.1695098e-03 1.8700623e-05 3.4074376e-03]\n",
      " [2.5305504e-03 2.5686235e-03 2.5037755e-03 1.9938960e-03 2.3370357e-03]]\n"
     ]
    }
   ],
   "source": [
    "print(img_array[4000:4010,3000:3005,0])\n",
    "print('--------')\n",
    "print(img_array[4000:4010,3000:3005,2])"
   ]
  },
  {
   "cell_type": "code",
   "execution_count": 10,
   "metadata": {},
   "outputs": [],
   "source": [
    "NUM_CLASSES = 5\n",
    "CLASS_VALUES = [0, 50, 100, 150, 200]"
   ]
  },
  {
   "cell_type": "code",
   "execution_count": 11,
   "metadata": {},
   "outputs": [],
   "source": [
    "pred_map_final = np.argmax(img_array, axis=-1)\n",
    "pred_map_final_gray = pred_map_final.astype('uint8') * 50\n",
    "#del pred_map_final\n",
    "#gc.collect()\n",
    "pred_map_final_ones = [(pred_map_final_gray == v) for v in CLASS_VALUES]\n",
    "#del pred_map_final_gray\n",
    "#gc.collect()\n",
    "pred_map_final_stack = np.stack(pred_map_final_ones, axis=-1).astype('uint8')\n",
    "#del pred_map_final_ones\n",
    "#gc.collect()\n",
    "\n",
    "pred_colormap = _gray_to_color(pred_map_final_stack)"
   ]
  },
  {
   "cell_type": "code",
   "execution_count": 89,
   "metadata": {},
   "outputs": [
    {
     "data": {
      "text/plain": [
       "array([[3, 3, 0, 0, 0],\n",
       "       [3, 3, 3, 3, 3],\n",
       "       [3, 3, 3, 3, 3],\n",
       "       [0, 3, 3, 3, 3],\n",
       "       [3, 0, 3, 3, 3],\n",
       "       [3, 3, 3, 3, 3],\n",
       "       [3, 3, 3, 3, 3],\n",
       "       [3, 0, 3, 3, 3],\n",
       "       [0, 0, 3, 0, 3],\n",
       "       [3, 3, 3, 3, 3]])"
      ]
     },
     "execution_count": 89,
     "metadata": {},
     "output_type": "execute_result"
    }
   ],
   "source": [
    "test_img = np.argmax(img_array, axis=-1)\n",
    "test_img[4000:4010,3000:3005]"
   ]
  },
  {
   "cell_type": "code",
   "execution_count": 14,
   "metadata": {},
   "outputs": [
    {
     "name": "stdout",
     "output_type": "stream",
     "text": [
      "(9264, 9808)\n"
     ]
    },
    {
     "data": {
      "text/plain": [
       "array([[150, 150,   0,   0,   0],\n",
       "       [150, 150, 150, 150, 150],\n",
       "       [150, 150, 150, 150, 150],\n",
       "       [  0, 150, 150, 150, 150],\n",
       "       [150,   0, 150, 150, 150],\n",
       "       [150, 150, 150, 150, 150],\n",
       "       [150, 150, 150, 150, 150],\n",
       "       [150,   0, 150, 150, 150],\n",
       "       [  0,   0, 150,   0, 150],\n",
       "       [150, 150, 150, 150, 150]], dtype=uint8)"
      ]
     },
     "execution_count": 14,
     "metadata": {},
     "output_type": "execute_result"
    }
   ],
   "source": [
    "print(pred_map_final_gray.shape)\n",
    "pred_map_final_gray[4000:4010,3000:3005]"
   ]
  },
  {
   "cell_type": "code",
   "execution_count": 18,
   "metadata": {},
   "outputs": [
    {
     "name": "stdout",
     "output_type": "stream",
     "text": [
      "[array([[ True,  True,  True, ...,  True,  True,  True],\n",
      "       [ True,  True,  True, ...,  True,  True,  True],\n",
      "       [ True,  True,  True, ...,  True,  True,  True],\n",
      "       ...,\n",
      "       [ True,  True,  True, ...,  True,  True,  True],\n",
      "       [ True,  True,  True, ...,  True,  True,  True],\n",
      "       [ True,  True,  True, ...,  True,  True,  True]]), array([[False, False, False, ..., False, False, False],\n",
      "       [False, False, False, ..., False, False, False],\n",
      "       [False, False, False, ..., False, False, False],\n",
      "       ...,\n",
      "       [False, False, False, ..., False, False, False],\n",
      "       [False, False, False, ..., False, False, False],\n",
      "       [False, False, False, ..., False, False, False]]), array([[False, False, False, ..., False, False, False],\n",
      "       [False, False, False, ..., False, False, False],\n",
      "       [False, False, False, ..., False, False, False],\n",
      "       ...,\n",
      "       [False, False, False, ..., False, False, False],\n",
      "       [False, False, False, ..., False, False, False],\n",
      "       [False, False, False, ..., False, False, False]]), array([[False, False, False, ..., False, False, False],\n",
      "       [False, False, False, ..., False, False, False],\n",
      "       [False, False, False, ..., False, False, False],\n",
      "       ...,\n",
      "       [False, False, False, ..., False, False, False],\n",
      "       [False, False, False, ..., False, False, False],\n",
      "       [False, False, False, ..., False, False, False]]), array([[False, False, False, ..., False, False, False],\n",
      "       [False, False, False, ..., False, False, False],\n",
      "       [False, False, False, ..., False, False, False],\n",
      "       ...,\n",
      "       [False, False, False, ..., False, False, False],\n",
      "       [False, False, False, ..., False, False, False],\n",
      "       [False, False, False, ..., False, False, False]])]\n"
     ]
    }
   ],
   "source": [
    "print(pred_map_final_ones)"
   ]
  },
  {
   "cell_type": "code",
   "execution_count": 33,
   "metadata": {},
   "outputs": [
    {
     "name": "stdout",
     "output_type": "stream",
     "text": [
      "this map is separated out into separate segments:\n",
      "(9264, 9808, 5)\n",
      "[[0 0 1 1 1]\n",
      " [0 0 0 0 0]\n",
      " [0 0 0 0 0]\n",
      " [1 0 0 0 0]\n",
      " [0 1 0 0 0]\n",
      " [0 0 0 0 0]\n",
      " [0 0 0 0 0]\n",
      " [0 1 0 0 0]\n",
      " [1 1 0 1 0]\n",
      " [0 0 0 0 0]]\n",
      "-------\n",
      "[[1 1 1 1 0]\n",
      " [1 1 1 1 1]\n",
      " [1 1 1 1 1]\n",
      " [0 1 0 1 1]\n",
      " [1 1 1 0 1]\n",
      " [1 1 1 1 0]\n",
      " [1 1 1 1 1]\n",
      " [1 1 1 1 1]\n",
      " [1 1 1 1 1]\n",
      " [1 1 1 0 1]]\n"
     ]
    }
   ],
   "source": [
    "print('this map is separated out into separate segments:')\n",
    "print(pred_map_final_stack.shape)\n",
    "print(pred_map_final_stack[4000:4010,3000:3005,0])\n",
    "print('-------')\n",
    "print(pred_map_final_stack[4000:4010,3005:3010,3])"
   ]
  },
  {
   "cell_type": "code",
   "execution_count": 34,
   "metadata": {},
   "outputs": [
    {
     "name": "stdout",
     "output_type": "stream",
     "text": [
      "this map is separated out into separate segments:\n",
      "(9264, 9808, 5)\n",
      "[[1 1 1 1 1]\n",
      " [1 1 1 1 1]\n",
      " [1 1 1 1 1]\n",
      " [1 1 1 1 1]\n",
      " [1 1 1 1 1]\n",
      " [1 1 1 1 1]\n",
      " [1 1 1 1 1]\n",
      " [1 1 1 1 1]\n",
      " [1 1 1 1 1]\n",
      " [1 1 1 1 1]]\n",
      "-------\n",
      "[[0 0 0 0 0]\n",
      " [0 0 0 0 0]\n",
      " [0 0 0 0 0]\n",
      " [0 0 0 0 0]\n",
      " [0 0 0 0 0]\n",
      " [0 0 0 0 0]\n",
      " [0 0 0 0 0]\n",
      " [0 0 0 0 0]\n",
      " [0 0 0 0 0]\n",
      " [0 0 0 0 0]]\n"
     ]
    }
   ],
   "source": [
    "print('this map is separated out into separate segments:')\n",
    "print('The first dimension is all background:')\n",
    "print(pred_map_final_stack.shape)\n",
    "print(pred_map_final_stack[00:10,00:5,0])\n",
    "print('-------')\n",
    "print(pred_map_final_stack[0:10,5:10,3])"
   ]
  },
  {
   "attachments": {},
   "cell_type": "markdown",
   "metadata": {},
   "source": [
    "Since we have five classes, we want to strip off one of them before passing to the dicom conversion routine, since it is expecting a four channel array. According to the HighDicom documentation (https://highdicom.readthedocs.io/en/latest/package.html#module-highdicom.seg), A 4D array will be expected in the format: [NumberOfFrames,Row, Columns, NumOfSegments].  So this needs to be reformatted, and there is a routine in dicomslide for this already."
   ]
  },
  {
   "cell_type": "code",
   "execution_count": 84,
   "metadata": {},
   "outputs": [
    {
     "name": "stdout",
     "output_type": "stream",
     "text": [
      "shape of intermediate: (9264, 9808)\n",
      "shape of image_to_import: (9264, 9808)\n"
     ]
    },
    {
     "data": {
      "text/plain": [
       "(9264, 9808)"
      ]
     },
     "execution_count": 84,
     "metadata": {},
     "output_type": "execute_result"
    }
   ],
   "source": [
    "# segs in order: Bground, Necrosis, Stroma, ARMS, ERMS\n",
    "# picking ERMS\n",
    "intermediate = pred_map_final_stack[:,:,4]\n",
    "print('shape of intermediate:',intermediate.shape)\n",
    "# flip the rows and columns to match dicom ordering\n",
    "#image_to_import = np.rollaxis(intermediate,1)\n",
    "print('shape of image_to_import:',intermediate.shape)\n",
    "intermediate.shape\n"
   ]
  },
  {
   "cell_type": "code",
   "execution_count": 67,
   "metadata": {},
   "outputs": [],
   "source": [
    "\n",
    "from pathlib import Path\n",
    "\n",
    "import highdicom as hd\n",
    "import dicomslide\n",
    "from pydicom.sr.codedict import codes\n",
    "from pydicom.filereader import dcmread\n",
    "from pydicom import Dataset\n",
    "from dicomweb_client import DICOMfileClient\n",
    "from tempfile import TemporaryDirectory\n",
    "from typing import Tuple\n",
    "\n",
    "def disassemble_total_pixel_matrix_wrapped(\n",
    "    seg_total_pixel_matrix: np.ndarray,\n",
    "    source_image_metadata: Dataset,\n",
    ") -> np.ndarray:\n",
    "    \"\"\"Disassemble a total pixel matrix into individual tiles.\n",
    "\n",
    "    Parameters\n",
    "    ----------\n",
    "    seg_total_pixel_matrix: numpy.ndarray\n",
    "        Total pixel matrix of the segmentation as a 2D NumPy array.\n",
    "    source_metadata: pydicom.Dataset\n",
    "        DICOM metadata of the source image.\n",
    "\n",
    "    Returns\n",
    "    -------\n",
    "    numpy.ndarray\n",
    "        Stacked image tiles\n",
    "\n",
    "    \"\"\"\n",
    "    if seg_total_pixel_matrix.ndim != 2:\n",
    "        raise ValueError(\n",
    "            \"Total pixel matrix has unexpected number of dimensions.\"\n",
    "        )\n",
    "\n",
    "    # Need a client object to work with DICOM slide so just create a dummy one\n",
    "    with TemporaryDirectory() as tmpdir:\n",
    "        client = DICOMfileClient(f\"file://{tmpdir}\")\n",
    "\n",
    "        im_tpm = dicomslide.TotalPixelMatrix(client, source_image_metadata)\n",
    "\n",
    "        tile_rows, tile_cols, _ = im_tpm.tile_shape\n",
    "\n",
    "        return dicomslide.disassemble_total_pixel_matrix(\n",
    "            seg_total_pixel_matrix,\n",
    "            im_tpm.tile_positions,\n",
    "            tile_rows,\n",
    "            tile_cols,\n",
    "        )\n",
    "\n",
    "\n",
    "\n",
    "\n",
    "\n",
    "\n",
    "\n",
    "\n",
    "\n",
    "\n",
    "\n",
    "\n"
   ]
  },
  {
   "cell_type": "code",
   "execution_count": 82,
   "metadata": {},
   "outputs": [],
   "source": [
    "#  This is based on the hidicom output example listed in the readthedocs documentation\n",
    "\n",
    "CHANNEL_DESCRIPTION = {}\n",
    "CHANNEL_DESCRIPTION['chan_1'] = 'Necrosis'\n",
    "CHANNEL_DESCRIPTION['chan_2'] = 'Stroma'\n",
    "CHANNEL_DESCRIPTION['chan_3'] = 'ARMS'\n",
    "CHANNEL_DESCRIPTION['chan_4'] = 'ERMS'\n",
    "\n",
    "def writeDicomSegObject(image_dataset, seg_image, out_path):\n",
    "\n",
    "    # Path to multi-frame SM image instance stored as PS3.10 file\n",
    "    #image_file = Path(image_path)\n",
    "\n",
    "    # Read SM Image data set from PS3.10 files on disk.  This will provide the \n",
    "    # reference image size and other dicom header information\n",
    "    #image_dataset = dcmread(str(image_file))\n",
    "\n",
    "\n",
    "    # make the derived image header information (from Max)\n",
    "    # this has to be run expecting a single image\n",
    "    derived_plane_positions,derived_pixel_measures = _compute_derived_image_attributes(image_dataset, seg_image)\n",
    "\n",
    "   # function stolen from idc-pan-cancer-archive repository to re-tile the numpy to match the tiling\n",
    "   # from the source image\n",
    "    print('passing in a numpy array of shape:',seg_image.shape)\n",
    "    # pass only the ERMS channel?\n",
    "    mask = disassemble_total_pixel_matrix_wrapped(seg_image,image_dataset)\n",
    "    print('received a numpy array of shape:',mask.shape)\n",
    "\n",
    "\n",
    "    # Describe the algorithm that created the segmentation\n",
    "    algorithm_identification = hd.AlgorithmIdentificationSequence(\n",
    "        name='FNLCR_RMS_seg_iou_0.7343_epoch_60',\n",
    "        version='v1.0',\n",
    "        family=codes.cid7162.ArtificialIntelligence\n",
    "    )\n",
    "\n",
    "    # Describe the segment\n",
    "    description_segment_1 = hd.seg.SegmentDescription(\n",
    "        segment_number=1,\n",
    "        segment_label=CHANNEL_DESCRIPTION['chan_4'],\n",
    "        segmented_property_category=codes.cid7150.Tissue,\n",
    "        segmented_property_type=codes.cid7166.ConnectiveTissue,\n",
    "        algorithm_type=hd.seg.SegmentAlgorithmTypeValues.AUTOMATIC,\n",
    "        algorithm_identification=algorithm_identification,\n",
    "        tracking_uid=hd.UID(),\n",
    "        tracking_id='RMS segmentation_'+str(CHANNEL_DESCRIPTION['chan_4'])\n",
    "    )\n",
    "\n",
    "\n",
    "\n",
    "    # Create the Segmentation instance\n",
    "    seg_dataset = hd.seg.Segmentation(\n",
    "        source_images=[image_dataset],\n",
    "        pixel_array=mask,\n",
    "        segmentation_type=hd.seg.SegmentationTypeValues.BINARY,\n",
    "        #segment_descriptions=[description_segment_1,description_segment_2,description_segment_3,description_segment_4],\n",
    "        segment_descriptions=[description_segment_1],\n",
    "        series_instance_uid=hd.UID(),\n",
    "        series_number=2,\n",
    "        sop_instance_uid=hd.UID(),\n",
    "        instance_number=1,\n",
    "        # the following two entries are added because the output resolution is different from the source\n",
    "        pixel_measures=derived_pixel_measures,\n",
    "        plane_positions= derived_plane_positions,\n",
    "        manufacturer='Aperio',\n",
    "        manufacturer_model_name='Unknown',\n",
    "        software_versions='v1',\n",
    "        device_serial_number='Unknown'\n",
    "    )\n",
    "\n",
    "    print(seg_dataset)\n",
    "    # change output file with some function is needed\n",
    "    outfilename = out_path\n",
    "    seg_dataset.save_as(outfilename)\n",
    "\n"
   ]
  },
  {
   "cell_type": "code",
   "execution_count": 73,
   "metadata": {},
   "outputs": [],
   "source": [
    "from pydicom import Dataset\n",
    "\n",
    "# from Max to calculate the derived parameters needed when the segmentation image is not the same\n",
    "# resolution as the source image.  This creates records that have to be passed in to the creation\n",
    "# step in HighDicom. \n",
    "\n",
    "def _compute_derived_image_attributes(source_image: Dataset, total_pixel_matrix: np.ndarray) -> Tuple[hd.PlanePositionSequence, hd.PixelMeasuresSequence]:\n",
    "    \"\"\"Compute attributes of a derived single-frame image.\n",
    "    Parameters\n",
    "    ----------\n",
    "    source_image: pydicom.Dataset\n",
    "        Source image from which single-frame image was derived\n",
    "    total_pixel_matrix: numpy.ndarray\n",
    "        Total Pixel matrix of derived single-frame image for which attribute\n",
    "        values should be computed\n",
    "    Returns\n",
    "    -------\n",
    "    plane_positions: highdicom.PlanePositionSequence\n",
    "        Plane position of the single-frame image\n",
    "    pixel_measures: highdicom.PixelMeasuresSequence\n",
    "        Pixel measures of the single-frame image\n",
    "    \"\"\"\n",
    "    sm_total_rows = int(\n",
    "        np.ceil(source_image.TotalPixelMatrixRows / source_image.Rows)\n",
    "        * source_image.Rows\n",
    "    )\n",
    "    sm_total_cols = int(\n",
    "        np.ceil(source_image.TotalPixelMatrixColumns / source_image.Columns)\n",
    "        * source_image.Columns\n",
    "    )\n",
    "    print('sm_total_rows=',sm_total_rows)\n",
    "    print('sm_total_cols=',sm_total_cols)\n",
    "    origin = source_image.TotalPixelMatrixOriginSequence[0]\n",
    "    print('origin=',origin)\n",
    "    x_offset = origin.XOffsetInSlideCoordinateSystem\n",
    "    y_offset = origin.YOffsetInSlideCoordinateSystem\n",
    "    print('x-offset:',x_offset,'y_offset:',y_offset)\n",
    "    sm_shared_func_groups = source_image.SharedFunctionalGroupsSequence[0]\n",
    "    sm_pixel_measures = sm_shared_func_groups.PixelMeasuresSequence[0]\n",
    "    print('sm_pixel_measures:',sm_pixel_measures)\n",
    "    sm_pixel_spacing = sm_pixel_measures.PixelSpacing\n",
    "    print('sm_pixel_spacing:',sm_pixel_spacing)\n",
    "    sm_slice_thickness = sm_pixel_measures.SliceThickness\n",
    "    print('sm_slice_thickness:',sm_slice_thickness)\n",
    "    print('total_pixel_matrix_shape:',total_pixel_matrix.shape)\n",
    "    derived_pixel_spacing = (\n",
    "        (sm_total_rows * sm_pixel_spacing[0]) / total_pixel_matrix.shape[0],\n",
    "        (sm_total_cols * sm_pixel_spacing[1]) / total_pixel_matrix.shape[1],\n",
    "    )\n",
    "    print('derived_pixel_spacing:',derived_pixel_spacing)\n",
    "    derived_plane_position = hd.PlanePositionSequence(\n",
    "        coordinate_system=hd.CoordinateSystemNames.SLIDE,\n",
    "        image_position=(x_offset, y_offset, 0.0),\n",
    "        pixel_matrix_position=(1, 1),  # there is only one frame\n",
    "    )\n",
    "    print('derived_plane_position:',derived_plane_position)\n",
    "    derived_pixel_measures = hd.PixelMeasuresSequence(\n",
    "        pixel_spacing=derived_pixel_spacing, slice_thickness=sm_slice_thickness\n",
    "    )\n",
    "    print('derived_pixel measures:',derived_pixel_measures)\n",
    "    return (derived_plane_position, derived_pixel_measures)\n",
    "\n"
   ]
  },
  {
   "cell_type": "code",
   "execution_count": 83,
   "metadata": {},
   "outputs": [
    {
     "name": "stdout",
     "output_type": "stream",
     "text": [
      "sm_total_rows= 73472\n",
      "sm_total_cols= 77824\n",
      "origin= (0040, 072a) X Offset in Slide Coordinate System DS: '22.362505'\n",
      "(0040, 073a) Y Offset in Slide Coordinate System DS: '32.4148281116585'\n",
      "x-offset: 22.362505 y_offset: 32.4148281116585\n",
      "sm_pixel_measures: (0018, 0050) Slice Thickness                     DS: '0.0'\n",
      "(0028, 0030) Pixel Spacing                       DS: [.0002526, .0002526]\n",
      "sm_pixel_spacing: [.0002526, .0002526]\n",
      "sm_slice_thickness: 0\n",
      "total_pixel_matrix_shape: (9808, 9264)\n",
      "derived_pixel_spacing: (0.0018922336052202286, 0.002122014507772021)\n",
      "derived_plane_position: [(0040, 072a) X Offset in Slide Coordinate System DS: '22.362505'\n",
      "(0040, 073a) Y Offset in Slide Coordinate System DS: '32.4148281116585'\n",
      "(0040, 074a) Z Offset in Slide Coordinate System DS: '0.0'\n",
      "(0048, 021e) Column Position In Total Image Pixe SL: 1\n",
      "(0048, 021f) Row Position In Total Image Pixel M SL: 1]\n",
      "derived_pixel measures: [(0018, 0050) Slice Thickness                     DS: '0'\n",
      "(0028, 0030) Pixel Spacing                       DS: [0.00189223360522, 0.00212201450777]]\n",
      "passing in a numpy array of shape: (9808, 9264)\n",
      "received a numpy array of shape: (87248, 256, 256)\n"
     ]
    },
    {
     "name": "stderr",
     "output_type": "stream",
     "text": [
      "/home/clisle/proj/slicer/PW39/highdicom/src/highdicom/valuerep.py:54: UserWarning: The string \"RMS2341\" is unlikely to represent the intended person name since it contains only a single component. Construct a person name according to the format in described in http://dicom.nema.org/dicom/2013/output/chtml/part05/sect_6.2.html#sect_6.2.1.2, or, in pydicom 2.2.0 or later, use the pydicom.valuerep.PersonName.from_named_components() method to construct the person name correctly. If a single-component name is really intended, add a trailing caret character to disambiguate the name.\n",
      "  warnings.warn(\n"
     ]
    },
    {
     "ename": "ValueError",
     "evalue": "Number of PlanePositionSequence items provided via \"plane_positions\" argument does not match size of first dimension of \"pixel_array\" argument.",
     "output_type": "error",
     "traceback": [
      "\u001b[0;31m---------------------------------------------------------------------------\u001b[0m",
      "\u001b[0;31mValueError\u001b[0m                                Traceback (most recent call last)",
      "Cell \u001b[0;32mIn[83], line 2\u001b[0m\n\u001b[1;32m      1\u001b[0m outpath \u001b[39m=\u001b[39m \u001b[39m'\u001b[39m\u001b[39m/media/clisle/Imaging/IDC/sample_data_from_pixelmed/PARNED-0BNNF4_B2_Q30/DCM_0_from_numpy.dcm\u001b[39m\u001b[39m'\u001b[39m\n\u001b[0;32m----> 2\u001b[0m writeDicomSegObject(image_dataset,image_to_import,outpath)\n",
      "Cell \u001b[0;32mIn[82], line 53\u001b[0m, in \u001b[0;36mwriteDicomSegObject\u001b[0;34m(image_dataset, seg_image, out_path)\u001b[0m\n\u001b[1;32m     39\u001b[0m description_segment_1 \u001b[39m=\u001b[39m hd\u001b[39m.\u001b[39mseg\u001b[39m.\u001b[39mSegmentDescription(\n\u001b[1;32m     40\u001b[0m     segment_number\u001b[39m=\u001b[39m\u001b[39m1\u001b[39m,\n\u001b[1;32m     41\u001b[0m     segment_label\u001b[39m=\u001b[39mCHANNEL_DESCRIPTION[\u001b[39m'\u001b[39m\u001b[39mchan_4\u001b[39m\u001b[39m'\u001b[39m],\n\u001b[0;32m   (...)\u001b[0m\n\u001b[1;32m     47\u001b[0m     tracking_id\u001b[39m=\u001b[39m\u001b[39m'\u001b[39m\u001b[39mRMS segmentation_\u001b[39m\u001b[39m'\u001b[39m\u001b[39m+\u001b[39m\u001b[39mstr\u001b[39m(CHANNEL_DESCRIPTION[\u001b[39m'\u001b[39m\u001b[39mchan_4\u001b[39m\u001b[39m'\u001b[39m])\n\u001b[1;32m     48\u001b[0m )\n\u001b[1;32m     52\u001b[0m \u001b[39m# Create the Segmentation instance\u001b[39;00m\n\u001b[0;32m---> 53\u001b[0m seg_dataset \u001b[39m=\u001b[39m hd\u001b[39m.\u001b[39;49mseg\u001b[39m.\u001b[39;49mSegmentation(\n\u001b[1;32m     54\u001b[0m     source_images\u001b[39m=\u001b[39;49m[image_dataset],\n\u001b[1;32m     55\u001b[0m     pixel_array\u001b[39m=\u001b[39;49mmask,\n\u001b[1;32m     56\u001b[0m     segmentation_type\u001b[39m=\u001b[39;49mhd\u001b[39m.\u001b[39;49mseg\u001b[39m.\u001b[39;49mSegmentationTypeValues\u001b[39m.\u001b[39;49mBINARY,\n\u001b[1;32m     57\u001b[0m     \u001b[39m#segment_descriptions=[description_segment_1,description_segment_2,description_segment_3,description_segment_4],\u001b[39;49;00m\n\u001b[1;32m     58\u001b[0m     segment_descriptions\u001b[39m=\u001b[39;49m[description_segment_1],\n\u001b[1;32m     59\u001b[0m     series_instance_uid\u001b[39m=\u001b[39;49mhd\u001b[39m.\u001b[39;49mUID(),\n\u001b[1;32m     60\u001b[0m     series_number\u001b[39m=\u001b[39;49m\u001b[39m2\u001b[39;49m,\n\u001b[1;32m     61\u001b[0m     sop_instance_uid\u001b[39m=\u001b[39;49mhd\u001b[39m.\u001b[39;49mUID(),\n\u001b[1;32m     62\u001b[0m     instance_number\u001b[39m=\u001b[39;49m\u001b[39m1\u001b[39;49m,\n\u001b[1;32m     63\u001b[0m     \u001b[39m# the following two entries are added because the output resolution is different from the source\u001b[39;49;00m\n\u001b[1;32m     64\u001b[0m     pixel_measures\u001b[39m=\u001b[39;49mderived_pixel_measures,\n\u001b[1;32m     65\u001b[0m     plane_positions\u001b[39m=\u001b[39;49m derived_plane_positions,\n\u001b[1;32m     66\u001b[0m     manufacturer\u001b[39m=\u001b[39;49m\u001b[39m'\u001b[39;49m\u001b[39mAperio\u001b[39;49m\u001b[39m'\u001b[39;49m,\n\u001b[1;32m     67\u001b[0m     manufacturer_model_name\u001b[39m=\u001b[39;49m\u001b[39m'\u001b[39;49m\u001b[39mUnknown\u001b[39;49m\u001b[39m'\u001b[39;49m,\n\u001b[1;32m     68\u001b[0m     software_versions\u001b[39m=\u001b[39;49m\u001b[39m'\u001b[39;49m\u001b[39mv1\u001b[39;49m\u001b[39m'\u001b[39;49m,\n\u001b[1;32m     69\u001b[0m     device_serial_number\u001b[39m=\u001b[39;49m\u001b[39m'\u001b[39;49m\u001b[39mUnknown\u001b[39;49m\u001b[39m'\u001b[39;49m\n\u001b[1;32m     70\u001b[0m )\n\u001b[1;32m     72\u001b[0m \u001b[39mprint\u001b[39m(seg_dataset)\n\u001b[1;32m     73\u001b[0m \u001b[39m# change output file with some function is needed\u001b[39;00m\n",
      "File \u001b[0;32m~/proj/slicer/PW39/highdicom/src/highdicom/seg/sop.py:1398\u001b[0m, in \u001b[0;36mSegmentation.__init__\u001b[0;34m(self, source_images, pixel_array, segmentation_type, segment_descriptions, series_instance_uid, series_number, sop_instance_uid, instance_number, manufacturer, manufacturer_model_name, software_versions, device_serial_number, fractional_type, max_fractional_value, content_description, content_creator_name, transfer_syntax_uid, pixel_measures, plane_orientation, plane_positions, omit_empty_frames, content_label, content_creator_identification, **kwargs)\u001b[0m\n\u001b[1;32m   1396\u001b[0m \u001b[39melse\u001b[39;00m:\n\u001b[1;32m   1397\u001b[0m     \u001b[39mif\u001b[39;00m pixel_array\u001b[39m.\u001b[39mshape[\u001b[39m0\u001b[39m] \u001b[39m!=\u001b[39m \u001b[39mlen\u001b[39m(plane_positions):\n\u001b[0;32m-> 1398\u001b[0m         \u001b[39mraise\u001b[39;00m \u001b[39mValueError\u001b[39;00m(\n\u001b[1;32m   1399\u001b[0m             \u001b[39m'\u001b[39m\u001b[39mNumber of PlanePositionSequence items provided via \u001b[39m\u001b[39m'\u001b[39m\n\u001b[1;32m   1400\u001b[0m             \u001b[39m'\u001b[39m\u001b[39m\"\u001b[39m\u001b[39mplane_positions\u001b[39m\u001b[39m\"\u001b[39m\u001b[39m argument does not match size of \u001b[39m\u001b[39m'\u001b[39m\n\u001b[1;32m   1401\u001b[0m             \u001b[39m'\u001b[39m\u001b[39mfirst dimension of \u001b[39m\u001b[39m\"\u001b[39m\u001b[39mpixel_array\u001b[39m\u001b[39m\"\u001b[39m\u001b[39m argument.\u001b[39m\u001b[39m'\u001b[39m\n\u001b[1;32m   1402\u001b[0m         )\n\u001b[1;32m   1404\u001b[0m are_spatial_locations_preserved \u001b[39m=\u001b[39m (\n\u001b[1;32m   1405\u001b[0m     \u001b[39mall\u001b[39m(\n\u001b[1;32m   1406\u001b[0m         plane_positions[i] \u001b[39m==\u001b[39m source_plane_positions[i]\n\u001b[0;32m   (...)\u001b[0m\n\u001b[1;32m   1409\u001b[0m     plane_orientation \u001b[39m==\u001b[39m source_plane_orientation\n\u001b[1;32m   1410\u001b[0m )\n\u001b[1;32m   1412\u001b[0m plane_position_values, plane_sort_index \u001b[39m=\u001b[39m \\\n\u001b[1;32m   1413\u001b[0m     \u001b[39mself\u001b[39m\u001b[39m.\u001b[39mDimensionIndexSequence\u001b[39m.\u001b[39mget_index_values(plane_positions)\n",
      "\u001b[0;31mValueError\u001b[0m: Number of PlanePositionSequence items provided via \"plane_positions\" argument does not match size of first dimension of \"pixel_array\" argument."
     ]
    }
   ],
   "source": [
    "outpath = '/media/clisle/Imaging/IDC/sample_data_from_pixelmed/PARNED-0BNNF4_B2_Q30/DCM_0_from_numpy.dcm'\n",
    "writeDicomSegObject(image_dataset,image_to_import,outpath)"
   ]
  },
  {
   "cell_type": "code",
   "execution_count": null,
   "metadata": {},
   "outputs": [],
   "source": []
  }
 ],
 "metadata": {
  "kernelspec": {
   "display_name": "dicom-wsi",
   "language": "python",
   "name": "python3"
  },
  "language_info": {
   "codemirror_mode": {
    "name": "ipython",
    "version": 3
   },
   "file_extension": ".py",
   "mimetype": "text/x-python",
   "name": "python",
   "nbconvert_exporter": "python",
   "pygments_lexer": "ipython3",
   "version": "3.8.16"
  },
  "orig_nbformat": 4
 },
 "nbformat": 4,
 "nbformat_minor": 2
}
